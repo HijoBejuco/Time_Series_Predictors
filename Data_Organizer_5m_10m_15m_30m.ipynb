{
 "cells": [
  {
   "cell_type": "markdown",
   "metadata": {},
   "source": [
    "# Here I'll organize and generate all the databases derived from 5m data."
   ]
  },
  {
   "cell_type": "markdown",
   "metadata": {},
   "source": [
    "We use the following code to concat the 4 databases from Dukascopy in only 1 (Dukascopy only permits download 3 years in candles lower than 1h)"
   ]
  },
  {
   "cell_type": "code",
   "execution_count": 1,
   "metadata": {},
   "outputs": [],
   "source": [
    "import pandas as pd\n",
    "import numpy as np\n",
    "import matplotlib.pyplot as plt\n",
    "import itertools \n",
    "from itertools import product\n",
    "from scipy.stats import linregress\n",
    "from datetime import datetime\n",
    "plt.style.use(\"seaborn\")\n",
    "pd.set_option(\"display.max_rows\", None, \"display.max_columns\", None)#to display complete dataframe"
   ]
  },
  {
   "cell_type": "markdown",
   "metadata": {},
   "source": [
    "#### First step is read the 4 files without designing an index"
   ]
  },
  {
   "cell_type": "code",
   "execution_count": 98,
   "metadata": {},
   "outputs": [],
   "source": [
    "market = \"CADJPY\" #MODIFY THE MARKET !"
   ]
  },
  {
   "cell_type": "code",
   "execution_count": 99,
   "metadata": {},
   "outputs": [],
   "source": [
    "#These documents must be in \"organizing_data\" folder.\n",
    "#We got to download these data by parts because Dukascopy only allows to download 3 years in candles lower than 1h\n",
    "x = pd.read_csv(f\"{market}_1_5m.csv\") #2010-01-01 to 2012-12-31\n",
    "y = pd.read_csv(f\"{market}_2_5m.csv\") #2013-01-01 to 2015-12-31\n",
    "z = pd.read_csv(f\"{market}_3_5m.csv\") #2016-01-01 to 2018-12-31\n",
    "w = pd.read_csv(f\"{market}_4_5m.csv\") #2019-01-01 to 2020-12-31"
   ]
  },
  {
   "cell_type": "markdown",
   "metadata": {},
   "source": [
    "#### Second step is join them"
   ]
  },
  {
   "cell_type": "code",
   "execution_count": 100,
   "metadata": {},
   "outputs": [],
   "source": [
    "file_5m = pd.concat([x,y,z,w])"
   ]
  },
  {
   "cell_type": "code",
   "execution_count": 101,
   "metadata": {},
   "outputs": [
    {
     "data": {
      "text/html": [
       "<div>\n",
       "<style scoped>\n",
       "    .dataframe tbody tr th:only-of-type {\n",
       "        vertical-align: middle;\n",
       "    }\n",
       "\n",
       "    .dataframe tbody tr th {\n",
       "        vertical-align: top;\n",
       "    }\n",
       "\n",
       "    .dataframe thead th {\n",
       "        text-align: right;\n",
       "    }\n",
       "</style>\n",
       "<table border=\"1\" class=\"dataframe\">\n",
       "  <thead>\n",
       "    <tr style=\"text-align: right;\">\n",
       "      <th></th>\n",
       "      <th>Gmttime</th>\n",
       "      <th>Open</th>\n",
       "      <th>High</th>\n",
       "      <th>Low</th>\n",
       "      <th>Close</th>\n",
       "      <th>Volume</th>\n",
       "    </tr>\n",
       "  </thead>\n",
       "  <tbody>\n",
       "    <tr>\n",
       "      <th>0</th>\n",
       "      <td>01.01.2010 00:00:00.000</td>\n",
       "      <td>88.400</td>\n",
       "      <td>88.405</td>\n",
       "      <td>88.380</td>\n",
       "      <td>88.395</td>\n",
       "      <td>927.7454</td>\n",
       "    </tr>\n",
       "    <tr>\n",
       "      <th>1</th>\n",
       "      <td>01.01.2010 00:05:00.000</td>\n",
       "      <td>88.399</td>\n",
       "      <td>88.408</td>\n",
       "      <td>88.380</td>\n",
       "      <td>88.383</td>\n",
       "      <td>338.4967</td>\n",
       "    </tr>\n",
       "    <tr>\n",
       "      <th>2</th>\n",
       "      <td>01.01.2010 00:10:00.000</td>\n",
       "      <td>88.382</td>\n",
       "      <td>88.392</td>\n",
       "      <td>88.373</td>\n",
       "      <td>88.373</td>\n",
       "      <td>494.1476</td>\n",
       "    </tr>\n",
       "  </tbody>\n",
       "</table>\n",
       "</div>"
      ],
      "text/plain": [
       "                   Gmttime    Open    High     Low   Close    Volume\n",
       "0  01.01.2010 00:00:00.000  88.400  88.405  88.380  88.395  927.7454\n",
       "1  01.01.2010 00:05:00.000  88.399  88.408  88.380  88.383  338.4967\n",
       "2  01.01.2010 00:10:00.000  88.382  88.392  88.373  88.373  494.1476"
      ]
     },
     "execution_count": 101,
     "metadata": {},
     "output_type": "execute_result"
    }
   ],
   "source": [
    "file_5m.iloc[0:3] #Verify it all correct"
   ]
  },
  {
   "cell_type": "code",
   "execution_count": 102,
   "metadata": {},
   "outputs": [
    {
     "data": {
      "text/html": [
       "<div>\n",
       "<style scoped>\n",
       "    .dataframe tbody tr th:only-of-type {\n",
       "        vertical-align: middle;\n",
       "    }\n",
       "\n",
       "    .dataframe tbody tr th {\n",
       "        vertical-align: top;\n",
       "    }\n",
       "\n",
       "    .dataframe thead th {\n",
       "        text-align: right;\n",
       "    }\n",
       "</style>\n",
       "<table border=\"1\" class=\"dataframe\">\n",
       "  <thead>\n",
       "    <tr style=\"text-align: right;\">\n",
       "      <th></th>\n",
       "      <th>Gmttime</th>\n",
       "      <th>Open</th>\n",
       "      <th>High</th>\n",
       "      <th>Low</th>\n",
       "      <th>Close</th>\n",
       "      <th>Volume</th>\n",
       "    </tr>\n",
       "  </thead>\n",
       "  <tbody>\n",
       "    <tr>\n",
       "      <th>149691</th>\n",
       "      <td>31.12.2020 21:45:00.000</td>\n",
       "      <td>81.119</td>\n",
       "      <td>81.133</td>\n",
       "      <td>81.104</td>\n",
       "      <td>81.104</td>\n",
       "      <td>179.68</td>\n",
       "    </tr>\n",
       "    <tr>\n",
       "      <th>149692</th>\n",
       "      <td>31.12.2020 21:50:00.000</td>\n",
       "      <td>81.104</td>\n",
       "      <td>81.110</td>\n",
       "      <td>81.088</td>\n",
       "      <td>81.100</td>\n",
       "      <td>225.13</td>\n",
       "    </tr>\n",
       "    <tr>\n",
       "      <th>149693</th>\n",
       "      <td>31.12.2020 21:55:00.000</td>\n",
       "      <td>81.105</td>\n",
       "      <td>81.123</td>\n",
       "      <td>81.066</td>\n",
       "      <td>81.074</td>\n",
       "      <td>269.81</td>\n",
       "    </tr>\n",
       "  </tbody>\n",
       "</table>\n",
       "</div>"
      ],
      "text/plain": [
       "                        Gmttime    Open    High     Low   Close  Volume\n",
       "149691  31.12.2020 21:45:00.000  81.119  81.133  81.104  81.104  179.68\n",
       "149692  31.12.2020 21:50:00.000  81.104  81.110  81.088  81.100  225.13\n",
       "149693  31.12.2020 21:55:00.000  81.105  81.123  81.066  81.074  269.81"
      ]
     },
     "execution_count": 102,
     "metadata": {},
     "output_type": "execute_result"
    }
   ],
   "source": [
    "file_5m.iloc[-3:]"
   ]
  },
  {
   "cell_type": "markdown",
   "metadata": {},
   "source": [
    "#### Third step: save the file, without the index and with 5 decimals"
   ]
  },
  {
   "cell_type": "code",
   "execution_count": 103,
   "metadata": {},
   "outputs": [],
   "source": [
    "file_5m.to_csv(f\"{market}_5m_BID_10_20_EET_GMT.csv\",float_format='%.5f', index = False) #Saving without numeric index and with 5\n",
    "                                                                                                                      #decimals."
   ]
  },
  {
   "cell_type": "markdown",
   "metadata": {},
   "source": [
    "#### Fourth: reading the file to validate"
   ]
  },
  {
   "cell_type": "code",
   "execution_count": 73,
   "metadata": {},
   "outputs": [],
   "source": [
    "custom_date_parser = lambda x: datetime.strptime(x, \"%d.%m.%Y %H:%M:%S.%f\")\n",
    "t = pd.read_csv(f\"{market}_5m_BID_10_20_EET_GMT.csv\", parse_dates = [\"Gmttime\"] \n",
    "                ,date_parser=custom_date_parser, index_col = \"Gmttime\"\n",
    "               )"
   ]
  },
  {
   "cell_type": "code",
   "execution_count": null,
   "metadata": {},
   "outputs": [],
   "source": []
  },
  {
   "cell_type": "code",
   "execution_count": null,
   "metadata": {},
   "outputs": [],
   "source": []
  },
  {
   "cell_type": "code",
   "execution_count": null,
   "metadata": {},
   "outputs": [],
   "source": []
  },
  {
   "cell_type": "code",
   "execution_count": null,
   "metadata": {},
   "outputs": [],
   "source": []
  },
  {
   "cell_type": "code",
   "execution_count": null,
   "metadata": {},
   "outputs": [],
   "source": []
  },
  {
   "cell_type": "markdown",
   "metadata": {},
   "source": [
    "# RESAMPLES\n",
    "#### Let's Open the 5m databases and resample them into other timeframes\n",
    "in the following code we resample 5m datasets into 15m or 30m datasets"
   ]
  },
  {
   "cell_type": "code",
   "execution_count": 106,
   "metadata": {},
   "outputs": [],
   "source": [
    "\n",
    "mkts = [\"GBPNZD_5m_BID_10_20_EET_GMT.csv\", \"NZDCAD_5m_BID_10_20_EET_GMT.csv\", \"GBPCAD_5m_BID_10_20_EET_GMT.csv\",\n",
    "        \"AUDCAD_5m_BID_10_20_EET_GMT.csv\", \"EURNZD_5m_BID_10_20_EET_GMT.csv\", \"AUDNZD_5m_BID_10_20_EET_GMT.csv\",\n",
    "        \"GBPAUD_5m_BID_10_20_EET_GMT.csv\", \"NZDCHF_5m_BID_10_20_EET_GMT.csv\", \"EURCAD_5m_BID_10_20_EET_GMT.csv\",\n",
    "        \"GBPCHF_5m_BID_10_20_EET_GMT.csv\", \"CADCHF_5m_BID_10_20_EET_GMT.csv\", \"AUDCHF_5m_BID_10_20_EET_GMT.csv\",\n",
    "        \"EURCHF_5m_BID_10_20_EET_GMT.csv\", \"CHFJPY_5m_BID_10_20_EET_GMT.csv\", \"NZDJPY_5m_BID_10_20_EET_GMT.csv\",\n",
    "        \"EURAUD_5m_BID_10_20_EET_GMT.csv\", \"GBPJPY_5m_BID_10_20_EET_GMT.csv\", \"CADJPY_5m_BID_10_20_EET_GMT.csv\"]\n",
    "\n",
    "mkts_save = [\"GBPNZD_30m_BID_10_20_EET_GMT.csv\", \"NZDCAD_30m_BID_10_20_EET_GMT.csv\", \"GBPCAD_30m_BID_10_20_EET_GMT.csv\",\n",
    "             \"AUDCAD_30m_BID_10_20_EET_GMT.csv\", \"EURNZD_30m_BID_10_20_EET_GMT.csv\", \"AUDNZD_30m_BID_10_20_EET_GMT.csv\",\n",
    "             \"GBPAUD_30m_BID_10_20_EET_GMT.csv\", \"NZDCHF_30m_BID_10_20_EET_GMT.csv\", \"EURCAD_30m_BID_10_20_EET_GMT.csv\",\n",
    "             \"GBPCHF_30m_BID_10_20_EET_GMT.csv\", \"CADCHF_30m_BID_10_20_EET_GMT.csv\", \"AUDCHF_30m_BID_10_20_EET_GMT.csv\",\n",
    "             \"EURCHF_30m_BID_10_20_EET_GMT.csv\", \"CHFJPY_30m_BID_10_20_EET_GMT.csv\", \"NZDJPY_30m_BID_10_20_EET_GMT.csv\",\n",
    "             \"EURAUD_30m_BID_10_20_EET_GMT.csv\", \"GBPJPY_30m_BID_10_20_EET_GMT.csv\", \"CADJPY_30m_BID_10_20_EET_GMT.csv\"]\n",
    "             \n",
    "\n",
    "\n",
    "for i in range(len (mkts)):\n",
    "    \n",
    "    custom_date_parser = lambda x: datetime.strptime(x, \"%d.%m.%Y %H:%M:%S.%f\") #Parser for reading dates (Gmttime column)\n",
    "\n",
    "    ##########################################################\n",
    "    df_parsed = pd.read_csv(mkts[i], parse_dates = [\"Gmttime\"], date_parser=custom_date_parser, index_col = \"Gmttime\")\n",
    "                      #Previous line reads the 5m files using the custom parser and fix an datetime index needed for resampling\n",
    "        \n",
    "    df = pd.read_csv(mkts[i]) #reads the 5m files but without an index\n",
    "    ##########################################################\n",
    "\n",
    "    u = df.Gmttime.to_numpy() #store in u the column Gmttime in string format, not in datetime.\n",
    "    t = df_parsed.copy() #Copy of the 5m files readed with an index\n",
    "    t[\"Gmttime\"] = u #Generates a new column which is a string one, but its the same as the index to could be resampled then. \n",
    "    t = t[[\"Gmttime\", \"Open\", \"High\", \"Low\", \"Close\"]] #reasign t with only the columns we need\n",
    "\n",
    "    index = t[\"Gmttime\"].copy().to_frame() \n",
    "    Open_price = t[\"Open\"].copy().to_frame()\n",
    "    Close_price = t[\"Close\"].copy().to_frame()\n",
    "    \n",
    "    #Here we need to separate the resamples in different df because the resample methods for Close & Open are different\n",
    "    #one is for the first(Open) and one for the last (Close) values; also the index by itself is resampled.\n",
    "    \n",
    "\n",
    "    index_5m_to_30m = index.resample(rule='30min', closed='left', label='left').first().dropna()\n",
    "    Open_5m_to_30m = Open_price.resample(rule='30min', closed='left', label='left').first().dropna()\n",
    "    Close_5m_to_30m = Close_price.resample(rule='30min', closed='left', label='left').last().dropna()\n",
    "\n",
    "    index_5m_to_30m[[\"Open\", \"Close\"]] = [Open_5m_to_30m.to_numpy(), Close_5m_to_30m.to_numpy()] #Generates complete df.\n",
    "\n",
    "    ##########################################################\n",
    "    index_5m_to_30m.to_csv(mkts_save[i],float_format='%.5f', index = False) #Saving without the index. z\n",
    "    ##########################################################                                                                                                     #index and with 5 decimals.\n",
    "                                                                                                            "
   ]
  },
  {
   "cell_type": "code",
   "execution_count": null,
   "metadata": {},
   "outputs": [],
   "source": []
  },
  {
   "cell_type": "code",
   "execution_count": 21,
   "metadata": {},
   "outputs": [],
   "source": []
  },
  {
   "cell_type": "code",
   "execution_count": null,
   "metadata": {},
   "outputs": [],
   "source": []
  },
  {
   "cell_type": "code",
   "execution_count": null,
   "metadata": {},
   "outputs": [],
   "source": []
  },
  {
   "cell_type": "code",
   "execution_count": null,
   "metadata": {},
   "outputs": [],
   "source": []
  },
  {
   "cell_type": "code",
   "execution_count": null,
   "metadata": {},
   "outputs": [],
   "source": []
  },
  {
   "cell_type": "code",
   "execution_count": 3,
   "metadata": {},
   "outputs": [],
   "source": [
    "custom_date_parser = lambda x: datetime.strptime(x, \"%d.%m.%Y %H:%M:%S.%f\")\n",
    "##########################################################\n",
    "resampled_15m = pd.read_csv(\"USDCAD_15m_BID_10_20_EET_GMT.csv\", parse_dates = [\"Gmttime\"], date_parser=custom_date_parser, index_col = \"Gmttime\")\n",
    "Original_15m_dukascopy = pd.read_csv(\"USDCAD_15m_2019-2020______.csv\", parse_dates = [\"Gmttime\"], date_parser=custom_date_parser, index_col = \"Gmttime\")\n",
    "##########################################################"
   ]
  },
  {
   "cell_type": "code",
   "execution_count": 4,
   "metadata": {},
   "outputs": [
    {
     "data": {
      "text/plain": [
       "66567.56491"
      ]
     },
     "execution_count": 4,
     "metadata": {},
     "output_type": "execute_result"
    }
   ],
   "source": [
    "Original_15m_dukascopy[\"Close\"].sum()"
   ]
  },
  {
   "cell_type": "code",
   "execution_count": 5,
   "metadata": {},
   "outputs": [
    {
     "data": {
      "text/plain": [
       "66567.56491"
      ]
     },
     "execution_count": 5,
     "metadata": {},
     "output_type": "execute_result"
    }
   ],
   "source": [
    "resampled_15m.Close.loc[\"2019-01-01\":\"2020-12-31\"].sum()"
   ]
  },
  {
   "cell_type": "code",
   "execution_count": 6,
   "metadata": {},
   "outputs": [
    {
     "data": {
      "text/plain": [
       "1.3340493184232107"
      ]
     },
     "execution_count": 6,
     "metadata": {},
     "output_type": "execute_result"
    }
   ],
   "source": [
    "Original_15m_dukascopy[\"Open\"].mean()"
   ]
  },
  {
   "cell_type": "code",
   "execution_count": 7,
   "metadata": {},
   "outputs": [
    {
     "data": {
      "text/plain": [
       "1.3340493184232107"
      ]
     },
     "execution_count": 7,
     "metadata": {},
     "output_type": "execute_result"
    }
   ],
   "source": [
    "resampled_15m.Open.loc[\"2019-01-01\":\"2020-12-31\"].mean()"
   ]
  },
  {
   "cell_type": "code",
   "execution_count": null,
   "metadata": {},
   "outputs": [],
   "source": []
  },
  {
   "cell_type": "code",
   "execution_count": null,
   "metadata": {},
   "outputs": [],
   "source": []
  },
  {
   "cell_type": "code",
   "execution_count": null,
   "metadata": {},
   "outputs": [],
   "source": []
  }
 ],
 "metadata": {
  "kernelspec": {
   "display_name": "Python 3",
   "language": "python",
   "name": "python3"
  },
  "language_info": {
   "codemirror_mode": {
    "name": "ipython",
    "version": 3
   },
   "file_extension": ".py",
   "mimetype": "text/x-python",
   "name": "python",
   "nbconvert_exporter": "python",
   "pygments_lexer": "ipython3",
   "version": "3.7.9"
  }
 },
 "nbformat": 4,
 "nbformat_minor": 4
}
